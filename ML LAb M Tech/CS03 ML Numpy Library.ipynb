{
 "cells": [
  {
   "cell_type": "code",
   "execution_count": 1,
   "id": "e441eeae",
   "metadata": {},
   "outputs": [],
   "source": [
    "import numpy as np"
   ]
  },
  {
   "cell_type": "code",
   "execution_count": 6,
   "id": "f4260d5d",
   "metadata": {},
   "outputs": [
    {
     "name": "stdout",
     "output_type": "stream",
     "text": [
      "[1 2]\n",
      "\n",
      "2D-Array\n",
      "[[1 2]\n",
      " [3 4]]\n"
     ]
    }
   ],
   "source": [
    "arr = np.array([1,2])\n",
    "print(arr)\n",
    "print()\n",
    "two_array = np.array([[1,2],[3,4]])\n",
    "print(\"2D-Array\")\n",
    "print(two_array)"
   ]
  },
  {
   "cell_type": "code",
   "execution_count": 4,
   "id": "f23b918f",
   "metadata": {},
   "outputs": [
    {
     "data": {
      "text/plain": [
       "numpy.ndarray"
      ]
     },
     "execution_count": 4,
     "metadata": {},
     "output_type": "execute_result"
    }
   ],
   "source": [
    "type(arr)\n",
    "type(two_array)"
   ]
  },
  {
   "cell_type": "code",
   "execution_count": 8,
   "id": "af0e7485",
   "metadata": {},
   "outputs": [
    {
     "name": "stdout",
     "output_type": "stream",
     "text": [
      "2\n",
      "4\n"
     ]
    }
   ],
   "source": [
    "print(arr.size)\n",
    "print(two_array.size)"
   ]
  },
  {
   "cell_type": "code",
   "execution_count": 9,
   "id": "8b2fe42f",
   "metadata": {},
   "outputs": [
    {
     "name": "stdout",
     "output_type": "stream",
     "text": [
      "(2,)\n",
      "(2, 2)\n"
     ]
    }
   ],
   "source": [
    "print(arr.shape)\n",
    "print(two_array.shape)"
   ]
  },
  {
   "cell_type": "code",
   "execution_count": 10,
   "id": "c48e09d3",
   "metadata": {},
   "outputs": [
    {
     "name": "stdout",
     "output_type": "stream",
     "text": [
      "int32\n",
      "int32\n"
     ]
    }
   ],
   "source": [
    "print(arr.dtype)\n",
    "print(two_array.dtype)\n"
   ]
  },
  {
   "cell_type": "markdown",
   "id": "21e1f7d9",
   "metadata": {},
   "source": [
    "arr.transpose() will transpose the array(same as matrix)"
   ]
  },
  {
   "cell_type": "code",
   "execution_count": 8,
   "id": "47f46d04",
   "metadata": {},
   "outputs": [
    {
     "data": {
      "text/plain": [
       "array([[1, 3],\n",
       "       [2, 4]])"
      ]
     },
     "execution_count": 8,
     "metadata": {},
     "output_type": "execute_result"
    }
   ],
   "source": [
    "two_array.transpose()"
   ]
  },
  {
   "cell_type": "markdown",
   "id": "b2cdb4aa",
   "metadata": {},
   "source": [
    "np.empty((row,col),dtype) will generate a random array of size row col containing elements\n",
    "of \"dtype\""
   ]
  },
  {
   "cell_type": "code",
   "execution_count": 9,
   "id": "9ba88037",
   "metadata": {},
   "outputs": [
    {
     "data": {
      "text/plain": [
       "array([[-1552763896,         649,          64,           0,           0],\n",
       "       [          0,           0,           0,           0,     6881382],\n",
       "       [ 1650537264,   875638838,  1701197110,   825833780,  1667446583],\n",
       "       [ 1701012835,   811754342,   876098148,   925906485,   811940152],\n",
       "       [ 1717909606,   862216503,   811939122,  1717842533,   945895730]])"
      ]
     },
     "execution_count": 9,
     "metadata": {},
     "output_type": "execute_result"
    }
   ],
   "source": [
    "np.empty((5,5),dtype = int)"
   ]
  },
  {
   "cell_type": "code",
   "execution_count": 11,
   "id": "b5bc7fe8",
   "metadata": {},
   "outputs": [
    {
     "data": {
      "text/plain": [
       "array([[      0,       0,       0,       0],\n",
       "       [      0,       0,       0,       0],\n",
       "       [      0,       0,    1036,       0],\n",
       "       [      0, 7602273,       0, 7274572]])"
      ]
     },
     "execution_count": 11,
     "metadata": {},
     "output_type": "execute_result"
    }
   ],
   "source": [
    "np.empty((4,4),dtype = int)"
   ]
  },
  {
   "cell_type": "markdown",
   "id": "09527d26",
   "metadata": {},
   "source": [
    "np.ones((row, col), dtype) will generate an array of size row col containing \"1's\" of \"dtype\"\n",
    "\n",
    "Ways to write:\n",
    "\n",
    "np.ones(col)--> Generate \"col\" numebr of 1's of type float (\"1.\")\n",
    "\n",
    "np.ones((row,col))-> Generate \"1.\" of row col\n",
    "\n",
    "np.ones((row.col), dtype)"
   ]
  },
  {
   "cell_type": "code",
   "execution_count": 23,
   "id": "3345a361",
   "metadata": {},
   "outputs": [
    {
     "data": {
      "text/plain": [
       "array([1., 1., 1.])"
      ]
     },
     "execution_count": 23,
     "metadata": {},
     "output_type": "execute_result"
    }
   ],
   "source": [
    "np.ones(3)"
   ]
  },
  {
   "cell_type": "code",
   "execution_count": 25,
   "id": "04790ef7",
   "metadata": {},
   "outputs": [
    {
     "data": {
      "text/plain": [
       "array([[1., 1., 1., 1.],\n",
       "       [1., 1., 1., 1.],\n",
       "       [1., 1., 1., 1.]])"
      ]
     },
     "execution_count": 25,
     "metadata": {},
     "output_type": "execute_result"
    }
   ],
   "source": [
    "np.ones((3,4))"
   ]
  },
  {
   "cell_type": "code",
   "execution_count": 12,
   "id": "11ce96d5",
   "metadata": {},
   "outputs": [
    {
     "data": {
      "text/plain": [
       "array([[ True,  True,  True,  True],\n",
       "       [ True,  True,  True,  True],\n",
       "       [ True,  True,  True,  True],\n",
       "       [ True,  True,  True,  True]])"
      ]
     },
     "execution_count": 12,
     "metadata": {},
     "output_type": "execute_result"
    }
   ],
   "source": [
    "np.ones((4,4),dtype = bool)"
   ]
  },
  {
   "cell_type": "markdown",
   "id": "d0749daf",
   "metadata": {},
   "source": [
    "np.zeros((row,col),dtype)(everything same as ones())"
   ]
  },
  {
   "cell_type": "code",
   "execution_count": 13,
   "id": "9473cc79",
   "metadata": {},
   "outputs": [
    {
     "data": {
      "text/plain": [
       "array([['', '', '', '', ''],\n",
       "       ['', '', '', '', ''],\n",
       "       ['', '', '', '', ''],\n",
       "       ['', '', '', '', ''],\n",
       "       ['', '', '', '', '']], dtype='<U1')"
      ]
     },
     "execution_count": 13,
     "metadata": {},
     "output_type": "execute_result"
    }
   ],
   "source": [
    "np.zeros((5,5),dtype = str)"
   ]
  },
  {
   "cell_type": "markdown",
   "id": "a658ccb9",
   "metadata": {},
   "source": [
    "np.arange(start,end ,steps).Default steps =1"
   ]
  },
  {
   "cell_type": "code",
   "execution_count": 19,
   "id": "569a229c",
   "metadata": {},
   "outputs": [
    {
     "data": {
      "text/plain": [
       "array([ 3,  6,  9, 12, 15, 18])"
      ]
     },
     "execution_count": 19,
     "metadata": {},
     "output_type": "execute_result"
    }
   ],
   "source": [
    "np.arange(3,20,3)"
   ]
  },
  {
   "cell_type": "markdown",
   "id": "a529d5c0",
   "metadata": {},
   "source": [
    "reshape((rows,cols))reshape array to x*y"
   ]
  },
  {
   "cell_type": "code",
   "execution_count": 11,
   "id": "0b97235f",
   "metadata": {},
   "outputs": [],
   "source": [
    "arr = np.arange(0,9).reshape((3,3))"
   ]
  },
  {
   "cell_type": "code",
   "execution_count": 12,
   "id": "6cf746f6",
   "metadata": {},
   "outputs": [
    {
     "data": {
      "text/plain": [
       "array([0, 1, 2, 3, 4, 5, 6, 7, 8])"
      ]
     },
     "execution_count": 12,
     "metadata": {},
     "output_type": "execute_result"
    }
   ],
   "source": [
    "arr.flatten()"
   ]
  },
  {
   "cell_type": "markdown",
   "id": "ab0e4181",
   "metadata": {},
   "source": [
    "Array Slicing in numpy"
   ]
  },
  {
   "cell_type": "code",
   "execution_count": 27,
   "id": "da3dffcf",
   "metadata": {},
   "outputs": [
    {
     "data": {
      "text/plain": [
       "array([[ 1,  2,  3,  4,  5],\n",
       "       [ 6,  7,  8,  9, 10],\n",
       "       [11, 12, 13, 14, 15],\n",
       "       [16, 17, 18, 19, 20],\n",
       "       [21, 22, 23, 24, 25],\n",
       "       [26, 27, 28, 29, 30],\n",
       "       [31, 32, 33, 34, 35],\n",
       "       [36, 37, 38, 39, 40],\n",
       "       [41, 42, 43, 44, 45],\n",
       "       [46, 47, 48, 49, 50]])"
      ]
     },
     "execution_count": 27,
     "metadata": {},
     "output_type": "execute_result"
    }
   ],
   "source": [
    "arr = np.arange(1,51)\n",
    "arr = arr.reshape(10,5)\n",
    "arr"
   ]
  },
  {
   "cell_type": "markdown",
   "id": "dbb0be70",
   "metadata": {},
   "source": [
    "arr[row] will be return"
   ]
  },
  {
   "cell_type": "code",
   "execution_count": 28,
   "id": "346f60e0",
   "metadata": {},
   "outputs": [
    {
     "data": {
      "text/plain": [
       "array([1, 2, 3, 4, 5])"
      ]
     },
     "execution_count": 28,
     "metadata": {},
     "output_type": "execute_result"
    }
   ],
   "source": [
    "arr[0]"
   ]
  },
  {
   "cell_type": "code",
   "execution_count": 29,
   "id": "d5276448",
   "metadata": {},
   "outputs": [
    {
     "data": {
      "text/plain": [
       "1"
      ]
     },
     "execution_count": 29,
     "metadata": {},
     "output_type": "execute_result"
    }
   ],
   "source": [
    "arr[0,0]"
   ]
  },
  {
   "cell_type": "markdown",
   "id": "b5c483d9",
   "metadata": {},
   "source": [
    "We can also use arr[row1:row2,col1:col2] same as slicig in python "
   ]
  },
  {
   "cell_type": "code",
   "execution_count": 31,
   "id": "57036372",
   "metadata": {},
   "outputs": [
    {
     "data": {
      "text/plain": [
       "49"
      ]
     },
     "execution_count": 31,
     "metadata": {},
     "output_type": "execute_result"
    }
   ],
   "source": [
    "arr.argmax()"
   ]
  },
  {
   "cell_type": "markdown",
   "id": "22737dca",
   "metadata": {},
   "source": [
    "np.sum(arr) returns sum of arr np.sum(arr, axis = 1)returns sum of every row np.sum(arr,axix = 0)return sum of every col"
   ]
  },
  {
   "cell_type": "code",
   "execution_count": 32,
   "id": "a0a7ef9d",
   "metadata": {},
   "outputs": [
    {
     "data": {
      "text/plain": [
       "1275"
      ]
     },
     "execution_count": 32,
     "metadata": {},
     "output_type": "execute_result"
    }
   ],
   "source": [
    "np.sum(arr)"
   ]
  },
  {
   "cell_type": "code",
   "execution_count": 34,
   "id": "47c2cf42",
   "metadata": {},
   "outputs": [
    {
     "data": {
      "text/plain": [
       "array([ 15,  40,  65,  90, 115, 140, 165, 190, 215, 240])"
      ]
     },
     "execution_count": 34,
     "metadata": {},
     "output_type": "execute_result"
    }
   ],
   "source": [
    "np.sum(arr, axis =1)"
   ]
  },
  {
   "cell_type": "code",
   "execution_count": 37,
   "id": "720a7ca4",
   "metadata": {},
   "outputs": [
    {
     "data": {
      "text/plain": [
       "array([235, 245, 255, 265, 275])"
      ]
     },
     "execution_count": 37,
     "metadata": {},
     "output_type": "execute_result"
    }
   ],
   "source": [
    "np.sum(arr, axis =0)"
   ]
  },
  {
   "cell_type": "markdown",
   "id": "9f655348",
   "metadata": {},
   "source": [
    "Add,Multiply, subtract of array"
   ]
  },
  {
   "cell_type": "code",
   "execution_count": 36,
   "id": "5dc92ced",
   "metadata": {},
   "outputs": [
    {
     "name": "stdout",
     "output_type": "stream",
     "text": [
      "[ 5  7  9 12]\n",
      "[ 4 10 18 32]\n",
      "[-3 -3 -3 -4]\n"
     ]
    }
   ],
   "source": [
    "import numpy as np\n",
    "var = np.array([1,2,3,4])\n",
    "var1 = np.array([4,5,6,8])\n",
    "var2 = var + var1\n",
    "print(var2)\n",
    "var3 = var* var1\n",
    "print(var3)\n",
    "var4 = np.subtract(var,var1)\n",
    "print(var4)"
   ]
  },
  {
   "cell_type": "code",
   "execution_count": 38,
   "id": "a450df9c",
   "metadata": {},
   "outputs": [
    {
     "name": "stdout",
     "output_type": "stream",
     "text": [
      "[7 6 3 2 4 1]\n"
     ]
    }
   ],
   "source": [
    "#shuffle\n",
    "import numpy as np\n",
    "a = np.array([1,2,3,4,6,7])\n",
    "np.random.shuffle(a)\n",
    "\n",
    "print(a)"
   ]
  },
  {
   "cell_type": "code",
   "execution_count": 39,
   "id": "76e8dbd1",
   "metadata": {},
   "outputs": [
    {
     "name": "stdout",
     "output_type": "stream",
     "text": [
      "[[1 2]\n",
      " [3 4]\n",
      " [6 7]]\n"
     ]
    }
   ],
   "source": [
    "#resize\n",
    "import numpy as np\n",
    "a = np.array([1,2,3,4,6,7])\n",
    "x = np.resize(a,(3,2))\n",
    "\n",
    "print(x)"
   ]
  },
  {
   "cell_type": "code",
   "execution_count": null,
   "id": "458956a4",
   "metadata": {},
   "outputs": [],
   "source": []
  }
 ],
 "metadata": {
  "kernelspec": {
   "display_name": "Python 3 (ipykernel)",
   "language": "python",
   "name": "python3"
  },
  "language_info": {
   "codemirror_mode": {
    "name": "ipython",
    "version": 3
   },
   "file_extension": ".py",
   "mimetype": "text/x-python",
   "name": "python",
   "nbconvert_exporter": "python",
   "pygments_lexer": "ipython3",
   "version": "3.9.13"
  }
 },
 "nbformat": 4,
 "nbformat_minor": 5
}
