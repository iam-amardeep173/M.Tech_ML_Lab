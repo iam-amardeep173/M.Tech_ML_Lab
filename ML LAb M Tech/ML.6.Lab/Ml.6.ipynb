{
 "cells": [
  {
   "cell_type": "markdown",
   "id": "471d666d",
   "metadata": {},
   "source": [
    "## Lab Assignment no-6"
   ]
  },
  {
   "cell_type": "code",
   "execution_count": 36,
   "id": "54069a54",
   "metadata": {},
   "outputs": [],
   "source": [
    "import pandas as pd\n",
    "from sklearn.datasets import load_diabetes\n",
    "from sklearn.model_selection import train_test_split\n",
    "from sklearn.linear_model import LogisticRegression\n",
    "from sklearn.preprocessing import StandardScaler\n",
    "import numpy as np"
   ]
  },
  {
   "cell_type": "code",
   "execution_count": 37,
   "id": "df3a7df4",
   "metadata": {},
   "outputs": [],
   "source": [
    "# Load the Diabetes dataset\n",
    "data = load_diabetes()\n",
    "X = data.data\n",
    "y = (data.target > np.median(data.target)).astype(int)  # Convert to binary (0 and 1)\n"
   ]
  },
  {
   "cell_type": "code",
   "execution_count": 38,
   "id": "b9988e78",
   "metadata": {},
   "outputs": [],
   "source": [
    "# Split the data into a training and testing set\n",
    "X_train, X_test, y_train, y_test = train_test_split(X, y, test_size=0.2, random_state=42)\n"
   ]
  },
  {
   "cell_type": "code",
   "execution_count": 39,
   "id": "e17dfe6e",
   "metadata": {},
   "outputs": [
    {
     "data": {
      "text/html": [
       "<style>#sk-container-id-1 {color: black;}#sk-container-id-1 pre{padding: 0;}#sk-container-id-1 div.sk-toggleable {background-color: white;}#sk-container-id-1 label.sk-toggleable__label {cursor: pointer;display: block;width: 100%;margin-bottom: 0;padding: 0.3em;box-sizing: border-box;text-align: center;}#sk-container-id-1 label.sk-toggleable__label-arrow:before {content: \"▸\";float: left;margin-right: 0.25em;color: #696969;}#sk-container-id-1 label.sk-toggleable__label-arrow:hover:before {color: black;}#sk-container-id-1 div.sk-estimator:hover label.sk-toggleable__label-arrow:before {color: black;}#sk-container-id-1 div.sk-toggleable__content {max-height: 0;max-width: 0;overflow: hidden;text-align: left;background-color: #f0f8ff;}#sk-container-id-1 div.sk-toggleable__content pre {margin: 0.2em;color: black;border-radius: 0.25em;background-color: #f0f8ff;}#sk-container-id-1 input.sk-toggleable__control:checked~div.sk-toggleable__content {max-height: 200px;max-width: 100%;overflow: auto;}#sk-container-id-1 input.sk-toggleable__control:checked~label.sk-toggleable__label-arrow:before {content: \"▾\";}#sk-container-id-1 div.sk-estimator input.sk-toggleable__control:checked~label.sk-toggleable__label {background-color: #d4ebff;}#sk-container-id-1 div.sk-label input.sk-toggleable__control:checked~label.sk-toggleable__label {background-color: #d4ebff;}#sk-container-id-1 input.sk-hidden--visually {border: 0;clip: rect(1px 1px 1px 1px);clip: rect(1px, 1px, 1px, 1px);height: 1px;margin: -1px;overflow: hidden;padding: 0;position: absolute;width: 1px;}#sk-container-id-1 div.sk-estimator {font-family: monospace;background-color: #f0f8ff;border: 1px dotted black;border-radius: 0.25em;box-sizing: border-box;margin-bottom: 0.5em;}#sk-container-id-1 div.sk-estimator:hover {background-color: #d4ebff;}#sk-container-id-1 div.sk-parallel-item::after {content: \"\";width: 100%;border-bottom: 1px solid gray;flex-grow: 1;}#sk-container-id-1 div.sk-label:hover label.sk-toggleable__label {background-color: #d4ebff;}#sk-container-id-1 div.sk-serial::before {content: \"\";position: absolute;border-left: 1px solid gray;box-sizing: border-box;top: 0;bottom: 0;left: 50%;z-index: 0;}#sk-container-id-1 div.sk-serial {display: flex;flex-direction: column;align-items: center;background-color: white;padding-right: 0.2em;padding-left: 0.2em;position: relative;}#sk-container-id-1 div.sk-item {position: relative;z-index: 1;}#sk-container-id-1 div.sk-parallel {display: flex;align-items: stretch;justify-content: center;background-color: white;position: relative;}#sk-container-id-1 div.sk-item::before, #sk-container-id-1 div.sk-parallel-item::before {content: \"\";position: absolute;border-left: 1px solid gray;box-sizing: border-box;top: 0;bottom: 0;left: 50%;z-index: -1;}#sk-container-id-1 div.sk-parallel-item {display: flex;flex-direction: column;z-index: 1;position: relative;background-color: white;}#sk-container-id-1 div.sk-parallel-item:first-child::after {align-self: flex-end;width: 50%;}#sk-container-id-1 div.sk-parallel-item:last-child::after {align-self: flex-start;width: 50%;}#sk-container-id-1 div.sk-parallel-item:only-child::after {width: 0;}#sk-container-id-1 div.sk-dashed-wrapped {border: 1px dashed gray;margin: 0 0.4em 0.5em 0.4em;box-sizing: border-box;padding-bottom: 0.4em;background-color: white;}#sk-container-id-1 div.sk-label label {font-family: monospace;font-weight: bold;display: inline-block;line-height: 1.2em;}#sk-container-id-1 div.sk-label-container {text-align: center;}#sk-container-id-1 div.sk-container {/* jupyter's `normalize.less` sets `[hidden] { display: none; }` but bootstrap.min.css set `[hidden] { display: none !important; }` so we also need the `!important` here to be able to override the default hidden behavior on the sphinx rendered scikit-learn.org. See: https://github.com/scikit-learn/scikit-learn/issues/21755 */display: inline-block !important;position: relative;}#sk-container-id-1 div.sk-text-repr-fallback {display: none;}</style><div id=\"sk-container-id-1\" class=\"sk-top-container\"><div class=\"sk-text-repr-fallback\"><pre>LogisticRegression()</pre><b>In a Jupyter environment, please rerun this cell to show the HTML representation or trust the notebook. <br />On GitHub, the HTML representation is unable to render, please try loading this page with nbviewer.org.</b></div><div class=\"sk-container\" hidden><div class=\"sk-item\"><div class=\"sk-estimator sk-toggleable\"><input class=\"sk-toggleable__control sk-hidden--visually\" id=\"sk-estimator-id-1\" type=\"checkbox\" checked><label for=\"sk-estimator-id-1\" class=\"sk-toggleable__label sk-toggleable__label-arrow\">LogisticRegression</label><div class=\"sk-toggleable__content\"><pre>LogisticRegression()</pre></div></div></div></div></div>"
      ],
      "text/plain": [
       "LogisticRegression()"
      ]
     },
     "execution_count": 39,
     "metadata": {},
     "output_type": "execute_result"
    }
   ],
   "source": [
    "# Train a Logistic Regression model without normalization\n",
    "model = LogisticRegression()\n",
    "model.fit(X_train, y_train)\n"
   ]
  },
  {
   "cell_type": "code",
   "execution_count": 40,
   "id": "dfb7bfbb",
   "metadata": {},
   "outputs": [
    {
     "name": "stdout",
     "output_type": "stream",
     "text": [
      "Accuracy without normalization: 0.7415730337078652\n"
     ]
    }
   ],
   "source": [
    "# Calculate accuracy without normalization\n",
    "accuracy_without_normalization = model.score(X_test, y_test)\n",
    "print(\"Accuracy without normalization:\", accuracy_without_normalization)\n"
   ]
  },
  {
   "cell_type": "code",
   "execution_count": 41,
   "id": "7ac78fe5",
   "metadata": {},
   "outputs": [],
   "source": [
    "# Normalize the features using StandardScaler\n",
    "scaler = StandardScaler()\n",
    "X_train_normalized = scaler.fit_transform(X_train)\n",
    "X_test_normalized = scaler.transform(X_test)\n"
   ]
  },
  {
   "cell_type": "code",
   "execution_count": 42,
   "id": "962bb8d8",
   "metadata": {},
   "outputs": [
    {
     "name": "stdout",
     "output_type": "stream",
     "text": [
      "Accuracy with normalization: 0.7303370786516854\n"
     ]
    }
   ],
   "source": [
    "# Train a Logistic Regression model with normalized features\n",
    "model_normalized = LogisticRegression()\n",
    "model_normalized.fit(X_train_normalized, y_train)\n",
    "\n",
    "# Calculate accuracy with normalization\n",
    "accuracy_with_normalization = model_normalized.score(X_test_normalized, y_test)\n",
    "print(\"Accuracy with normalization:\", accuracy_with_normalization)"
   ]
  },
  {
   "cell_type": "markdown",
   "id": "07251a91",
   "metadata": {},
   "source": [
    "##### Ridge Regression (L2-Regularization)"
   ]
  },
  {
   "cell_type": "code",
   "execution_count": 44,
   "id": "618b1e85",
   "metadata": {},
   "outputs": [
    {
     "name": "stdout",
     "output_type": "stream",
     "text": [
      "RMSE estimate: 0.40713972351163585, std: 0.025082656181039484\n"
     ]
    }
   ],
   "source": [
    "from sklearn.linear_model import Ridge\n",
    "from sklearn.model_selection import cross_val_score\n",
    "import numpy as np\n",
    "\n",
    "# Define a function to calculate RMSE with cross-validation\n",
    "def rmse_cv(model):\n",
    "    rmse = np.sqrt(-cross_val_score(model, X, y, scoring=\"neg_mean_squared_error\", cv=5))\n",
    "    return rmse\n",
    "\n",
    "# Create a Ridge Regression model with alpha = 0.1\n",
    "ridgeModel = Ridge(alpha=0.1)\n",
    "\n",
    "# Calculate RMSE\n",
    "rmse = rmse_cv(ridgeModel)\n",
    "print(\"RMSE estimate: {}, std: {}\".format(rmse.mean(), rmse.std()))"
   ]
  },
  {
   "cell_type": "markdown",
   "id": "7bc6ad4d",
   "metadata": {},
   "source": [
    "##### Lasso Regression (L1-Regularization)"
   ]
  },
  {
   "cell_type": "code",
   "execution_count": 45,
   "id": "6acce43f",
   "metadata": {},
   "outputs": [
    {
     "name": "stdout",
     "output_type": "stream",
     "text": [
      "RMSE estimate: 0.5004371979302287, std: 0.0005346510117592709\n"
     ]
    }
   ],
   "source": [
    "from sklearn.linear_model import Lasso\n",
    "\n",
    "# determine RMSE for lasso regression model with alpha = 0.1\n",
    "lassoModel = Lasso(alpha = 0.1)\n",
    "rmse = rmse_cv(lassoModel)\n",
    "print(\"RMSE estimate: {}, std: {}\".format(rmse.mean(), rmse.std()))"
   ]
  },
  {
   "cell_type": "code",
   "execution_count": null,
   "id": "29f7250f",
   "metadata": {},
   "outputs": [],
   "source": []
  },
  {
   "cell_type": "code",
   "execution_count": 47,
   "id": "bf00fd3e",
   "metadata": {},
   "outputs": [],
   "source": [
    "# Define a list of alpha values to test\n",
    "from sklearn.metrics import mean_squared_error\n",
    "alphas = [0.001, 0.01, 0.1, 1, 10]\n",
    "\n",
    "# Initialize dictionaries to store RMSE values for L1 and L2 regularization\n",
    "rmse_values_l1 = {}\n",
    "rmse_values_l2 = {}\n",
    "\n",
    "for alpha in alphas:\n",
    "    # Train Lasso (L1) Regression model\n",
    "    lasso = Lasso(alpha=alpha)\n",
    "    lasso.fit(X_train, y_train)\n",
    "    y_pred = lasso.predict(X_test)\n",
    "    rmse_l1 = np.sqrt(mean_squared_error(y_test, y_pred))\n",
    "    rmse_values_l1[alpha] = rmse_l1\n",
    "\n",
    "    # Train Ridge (L2) Regression model\n",
    "    ridge = Ridge(alpha=alpha)\n",
    "    ridge.fit(X_train, y_train)\n",
    "    y_pred = ridge.predict(X_test)\n",
    "    rmse_l2 = np.sqrt(mean_squared_error(y_test, y_pred))\n",
    "    rmse_values_l2[alpha] = rmse_l2"
   ]
  },
  {
   "cell_type": "code",
   "execution_count": 48,
   "id": "fa77216e",
   "metadata": {},
   "outputs": [
    {
     "name": "stdout",
     "output_type": "stream",
     "text": [
      "RMSE Values for L1 Regularization (Lasso):\n",
      "Alpha = 0.001: RMSE = 0.4020877530383256\n",
      "Alpha = 0.01: RMSE = 0.4888472615385296\n",
      "Alpha = 0.1: RMSE = 0.5014495182138564\n",
      "Alpha = 1: RMSE = 0.5014495182138564\n",
      "Alpha = 10: RMSE = 0.5014495182138564\n",
      "\n",
      "RMSE Values for L2 Regularization (Ridge):\n",
      "Alpha = 0.001: RMSE = 0.40113303965518204\n",
      "Alpha = 0.01: RMSE = 0.40252164962660203\n",
      "Alpha = 0.1: RMSE = 0.4045435669958406\n",
      "Alpha = 1: RMSE = 0.4192792972764397\n",
      "Alpha = 10: RMSE = 0.4722425050177734\n"
     ]
    }
   ],
   "source": [
    "# Compare RMSE values for L1 (Lasso) and L2 (Ridge) regularization\n",
    "print(\"RMSE Values for L1 Regularization (Lasso):\")\n",
    "for alpha, rmse in rmse_values_l1.items():\n",
    "    print(f\"Alpha = {alpha}: RMSE = {rmse}\")\n",
    "\n",
    "print(\"\\nRMSE Values for L2 Regularization (Ridge):\")\n",
    "for alpha, rmse in rmse_values_l2.items():\n",
    "    print(f\"Alpha = {alpha}: RMSE = {rmse}\")"
   ]
  },
  {
   "cell_type": "code",
   "execution_count": null,
   "id": "a425d9bd",
   "metadata": {},
   "outputs": [],
   "source": []
  },
  {
   "cell_type": "code",
   "execution_count": null,
   "id": "fd275159",
   "metadata": {},
   "outputs": [],
   "source": []
  },
  {
   "cell_type": "code",
   "execution_count": null,
   "id": "af8ddd88",
   "metadata": {},
   "outputs": [],
   "source": []
  },
  {
   "cell_type": "code",
   "execution_count": null,
   "id": "5d4d473b",
   "metadata": {},
   "outputs": [],
   "source": []
  },
  {
   "cell_type": "code",
   "execution_count": null,
   "id": "7d2e2b8a",
   "metadata": {},
   "outputs": [],
   "source": []
  }
 ],
 "metadata": {
  "kernelspec": {
   "display_name": "Python 3 (ipykernel)",
   "language": "python",
   "name": "python3"
  },
  "language_info": {
   "codemirror_mode": {
    "name": "ipython",
    "version": 3
   },
   "file_extension": ".py",
   "mimetype": "text/x-python",
   "name": "python",
   "nbconvert_exporter": "python",
   "pygments_lexer": "ipython3",
   "version": "3.9.13"
  }
 },
 "nbformat": 4,
 "nbformat_minor": 5
}
